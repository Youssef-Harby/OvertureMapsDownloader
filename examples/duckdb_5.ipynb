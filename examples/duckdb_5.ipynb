{
 "cells": [
  {
   "cell_type": "markdown",
   "metadata": {},
   "source": [
    "# Spatial Data Analysis with DuckDB "
   ]
  },
  {
   "cell_type": "markdown",
   "metadata": {},
   "source": [
    "\"\"\"\"\n",
    "this notebook is based on the following tutorial:\n",
    "- https://dev.to/savo/spatial-data-analysis-with-duckdb-40j9\n",
    "- author: Savaş Altürk\n",
    "- Posted on Aug 6\n",
    "\n",
    "\"\"\""
   ]
  },
  {
   "cell_type": "markdown",
   "metadata": {},
   "source": [
    "## Introduction\n",
    "In this article, I will explain how to access point of interest (POI) data published as open data by the Overture Maps Foundation with DuckDB and how to perform spatial analysis."
   ]
  },
  {
   "cell_type": "markdown",
   "metadata": {},
   "source": [
    "## What is DuckDB?\n",
    "DuckDB is designed to support analytical query workloads, also known as Online analytical processing (OLAP). It includes a columnar-vectorized query execution engine. This is more performant than traditional systems such as PostgreSQL, MySQL, or SQLite, which process each row sequentially. There are many plugins available. You can easily transfer your data in environments such as Amazon S3, Google Cloud Storage, postgresql using plugins. You can perform spatial analysis by installing the Spatial plugin."
   ]
  },
  {
   "cell_type": "markdown",
   "metadata": {},
   "source": [
    "### Environment Setup"
   ]
  },
  {
   "cell_type": "code",
   "execution_count": 2,
   "metadata": {},
   "outputs": [],
   "source": [
    "# !pip install duckdb==0.8.1"
   ]
  },
  {
   "cell_type": "markdown",
   "metadata": {},
   "source": [
    "### Creating a database"
   ]
  },
  {
   "cell_type": "code",
   "execution_count": 3,
   "metadata": {},
   "outputs": [],
   "source": [
    "import duckdb\n",
    "import geopandas as gpd\n",
    "db = duckdb.connect(\"data.db\")"
   ]
  },
  {
   "cell_type": "markdown",
   "metadata": {},
   "source": [
    "### Installing plug-ins for data access and spatial analysis\n",
    "We install the \"spatial\" plugin to perform spatial analysis.\n",
    "We are installing the \"httpfs\" plugin to access POI data in Amazon S3. Then we define the region as \"us-west-2\"."
   ]
  },
  {
   "cell_type": "code",
   "execution_count": 4,
   "metadata": {},
   "outputs": [],
   "source": [
    "db.sql(\"\"\"\n",
    "INSTALL spatial;\n",
    "INSTALL httpfs;\n",
    "LOAD spatial;\n",
    "LOAD httpfs;\n",
    "SET s3_region='us-west-2';\n",
    "\"\"\")\n"
   ]
  },
  {
   "cell_type": "markdown",
   "metadata": {},
   "source": [
    "We create a table in the database and transfer the data in parquet format. 59 million rows of data were transferred to the database in about 34 minutes, it's about (11.05 GB)."
   ]
  },
  {
   "cell_type": "code",
   "execution_count": 5,
   "metadata": {},
   "outputs": [],
   "source": [
    "# db.sql(\"\"\"\n",
    "#   create table places as \n",
    "#   select * from read_parquet('s3://overturemaps-us-west-2/release/2023-07-26-alpha.0/theme=places/type=*/*')\n",
    "# \"\"\")"
   ]
  },
  {
   "cell_type": "code",
   "execution_count": 6,
   "metadata": {},
   "outputs": [
    {
     "name": "stdout",
     "output_type": "stream",
     "text": [
      "┌──────────┐\n",
      "│  count   │\n",
      "│  int64   │\n",
      "├──────────┤\n",
      "│ 59175720 │\n",
      "└──────────┘\n",
      "\n"
     ]
    }
   ],
   "source": [
    "db.sql(\"\"\"\n",
    "select count(*) as count from places\n",
    "\"\"\").show()\n"
   ]
  },
  {
   "cell_type": "code",
   "execution_count": 7,
   "metadata": {},
   "outputs": [
    {
     "name": "stdout",
     "output_type": "stream",
     "text": [
      "┌──────────────────────┬──────────────────────┬─────────┬──────────────────────┬───┬─────────┬─────────┬─────────┐\n",
      "│          id          │      updatetime      │ version │        names         │ … │  theme  │  type   │ country │\n",
      "│       varchar        │       varchar        │  int32  │ map(varchar, map(v…  │   │ varchar │ varchar │ varchar │\n",
      "├──────────────────────┼──────────────────────┼─────────┼──────────────────────┼───┼─────────┼─────────┼─────────┤\n",
      "│ tmp_9EF32E0C9C03C9…  │ 2023-07-24T00:00:0…  │       0 │ {common=[{value=Br…  │ … │ places  │ place   │ GB      │\n",
      "│ tmp_FBB8618B19BE2F…  │ 2023-07-24T00:00:0…  │       0 │ {common=[{value=Tr…  │ … │ places  │ place   │ AR      │\n",
      "│ tmp_081A89B04D0E03…  │ 2023-07-24T00:00:0…  │       0 │ {common=[{value=St…  │ … │ places  │ place   │ BR      │\n",
      "│ tmp_45CF77B709A680…  │ 2023-07-24T00:00:0…  │       0 │ {common=[{value=เต้…  │ … │ places  │ place   │ TH      │\n",
      "│ tmp_9EE93E03D9BFDB…  │ 2023-07-24T00:00:0…  │       0 │ {common=[{value=ร้า…  │ … │ places  │ place   │ TH      │\n",
      "├──────────────────────┴──────────────────────┴─────────┴──────────────────────┴───┴─────────┴─────────┴─────────┤\n",
      "│ 5 rows                                                                                    18 columns (7 shown) │\n",
      "└────────────────────────────────────────────────────────────────────────────────────────────────────────────────┘\n",
      "\n"
     ]
    }
   ],
   "source": [
    "db.sql(\"\"\"\n",
    "    select * from places limit 5\n",
    "\"\"\").show()\n"
   ]
  },
  {
   "cell_type": "markdown",
   "metadata": {},
   "source": [
    "You can find the diagram of the POI data [here](https://docs.overturemaps.org/reference/places/place/). There are columns in the data that we need to preprocess."
   ]
  },
  {
   "cell_type": "code",
   "execution_count": 8,
   "metadata": {},
   "outputs": [
    {
     "name": "stdout",
     "output_type": "stream",
     "text": [
      "┌──────────────────────┬──────────────────────┬─────────────────────┬──────────────────────┬───────────────────────────┐\n",
      "│        names         │      categories      │     confidence      │        brand         │         addresses         │\n",
      "│ map(varchar, map(v…  │ struct(main varcha…  │       double        │ struct(\"names\" map…  │  map(varchar, varchar)[]  │\n",
      "├──────────────────────┼──────────────────────┼─────────────────────┼──────────────────────┼───────────────────────────┤\n",
      "│ {common=[{value=Br…  │ {'main': veterinar…  │  0.5989174246788025 │ {'names': NULL, 'w…  │ [{postcode=LL57 2NX, fr…  │\n",
      "│ {common=[{value=Tr…  │ {'main': park, 'al…  │  0.9108787178993225 │ {'names': NULL, 'w…  │ [{country=AR}]            │\n",
      "│ {common=[{value=St…  │ {'main': beauty_sa…  │  0.9628990292549133 │ {'names': NULL, 'w…  │ [{locality=São Paulo, p…  │\n",
      "│ {common=[{value=เต้…  │ {'main': thai_rest…  │ 0.47563284635543823 │ {'names': NULL, 'w…  │ [{locality=Thap Sakae, …  │\n",
      "│ {common=[{value=ร้า…  │ {'main': community…  │  0.5783658027648926 │ {'names': NULL, 'w…  │ [{locality=Krabi, freef…  │\n",
      "└──────────────────────┴──────────────────────┴─────────────────────┴──────────────────────┴───────────────────────────┘\n",
      "\n"
     ]
    }
   ],
   "source": [
    "db.sql(\"\"\"\n",
    "    select names, categories, confidence,brand,addresses from places limit 5\n",
    "\"\"\").show()"
   ]
  },
  {
   "cell_type": "markdown",
   "metadata": {},
   "source": [
    "For example, in order to find out which category it is in the categories column, we need to get the information from the data held in the \"struct\" type. You can review the document to learn about DuckDB data types.\n",
    "For example, to extract which country you are located in the \"Addresses\" column:"
   ]
  },
  {
   "cell_type": "code",
   "execution_count": 9,
   "metadata": {},
   "outputs": [
    {
     "name": "stdout",
     "output_type": "stream",
     "text": [
      "┌─────────┐\n",
      "│ country │\n",
      "│ varchar │\n",
      "├─────────┤\n",
      "│ GB      │\n",
      "│ AR      │\n",
      "│ BR      │\n",
      "│ TH      │\n",
      "│ TH      │\n",
      "└─────────┘\n",
      "\n"
     ]
    }
   ],
   "source": [
    "db.sql(\"\"\"\n",
    "    select replace(json_extract(CAST(addresses AS JSON), '$[0].country')::varchar,'\"','') as country from places limit 5\n",
    "\"\"\").show()"
   ]
  },
  {
   "cell_type": "markdown",
   "metadata": {},
   "source": [
    "\n",
    "After creating a column called “country” to extract country short names, we add the extracted data."
   ]
  },
  {
   "cell_type": "code",
   "execution_count": 10,
   "metadata": {},
   "outputs": [
    {
     "name": "stdout",
     "output_type": "stream",
     "text": [
      "Catalog Error: Column with name country already exists!\n"
     ]
    }
   ],
   "source": [
    "try:\n",
    "       db.sql(\"\"\"ALTER TABLE places ADD COLUMN country VARCHAR;\n",
    "              update places set country = replace(json_extract(CAST(places.addresses AS JSON), '$[0].country')::varchar,'\"','')\n",
    "\n",
    "       \"\"\")\n",
    "except duckdb.Error as e:\n",
    "    print(e)\n",
    "    pass"
   ]
  },
  {
   "cell_type": "markdown",
   "metadata": {},
   "source": [
    "We run the following query to add the POI data in Turkey to a separate table and obtain the address, category, name, geometry information."
   ]
  },
  {
   "cell_type": "code",
   "execution_count": 11,
   "metadata": {},
   "outputs": [
    {
     "data": {
      "application/vnd.jupyter.widget-view+json": {
       "model_id": "ccabe498137b4a808e26d3dd32b15728",
       "version_major": 2,
       "version_minor": 0
      },
      "text/plain": [
       "FloatProgress(value=0.0, layout=Layout(width='auto'), style=ProgressStyle(bar_color='black'))"
      ]
     },
     "metadata": {},
     "output_type": "display_data"
    }
   ],
   "source": [
    "db.sql(\"\"\"\n",
    "       create or replace table turkey_places as (\n",
    "              select\n",
    "                     replace(json_extract(places.addresses::json,'$[0].locality'),'\"','')::varchar as locality,\n",
    "                     replace(json_extract(places.addresses::json,'$[0].region'),'\"','')::varchar as region,\n",
    "                     replace(json_extract(places.addresses::json,'$[0].postcode'),'\"','')::varchar as postcode,\n",
    "                     replace(json_extract(places.addresses::json,'$[0].freeform'),'\"','')::varchar as freeform,\n",
    "\n",
    "                     categories.main as categories_main,\n",
    "\n",
    "                     replace(json_extract(places.names::json,'$.common[0].value'),'\"','')::varchar as names,\n",
    "                     confidence,\n",
    "                     bbox,\n",
    "                     st_transform(st_point(st_y(st_geomfromwkb(geometry)),st_x(st_geomfromwkb(geometry))),'EPSG:4326','EPSG:3857') as geom\n",
    "\n",
    "\n",
    "              from places \n",
    "                     where country ='TR' \n",
    "       )\n",
    "\n",
    "\n",
    "\"\"\")"
   ]
  },
  {
   "cell_type": "markdown",
   "metadata": {},
   "source": [
    "Created table:"
   ]
  },
  {
   "cell_type": "code",
   "execution_count": 12,
   "metadata": {},
   "outputs": [
    {
     "data": {
      "text/html": [
       "<div>\n",
       "<style scoped>\n",
       "    .dataframe tbody tr th:only-of-type {\n",
       "        vertical-align: middle;\n",
       "    }\n",
       "\n",
       "    .dataframe tbody tr th {\n",
       "        vertical-align: top;\n",
       "    }\n",
       "\n",
       "    .dataframe thead th {\n",
       "        text-align: right;\n",
       "    }\n",
       "</style>\n",
       "<table border=\"1\" class=\"dataframe\">\n",
       "  <thead>\n",
       "    <tr style=\"text-align: right;\">\n",
       "      <th></th>\n",
       "      <th>locality</th>\n",
       "      <th>region</th>\n",
       "      <th>postcode</th>\n",
       "      <th>freeform</th>\n",
       "      <th>categories_main</th>\n",
       "      <th>names</th>\n",
       "      <th>confidence</th>\n",
       "      <th>bbox</th>\n",
       "      <th>geom</th>\n",
       "    </tr>\n",
       "  </thead>\n",
       "  <tbody>\n",
       "    <tr>\n",
       "      <th>0</th>\n",
       "      <td>None</td>\n",
       "      <td>None</td>\n",
       "      <td>None</td>\n",
       "      <td>None</td>\n",
       "      <td>public_plaza</td>\n",
       "      <td>Elite Mamak Society</td>\n",
       "      <td>0.630477</td>\n",
       "      <td>{'minx': 32.919501, 'maxx': 32.919501, 'miny':...</td>\n",
       "      <td>[0, 0, 24, 0, 0, 0, 0, 0, 0, 0, 0, 0, 1, 0, 0,...</td>\n",
       "    </tr>\n",
       "    <tr>\n",
       "      <th>1</th>\n",
       "      <td>Konya</td>\n",
       "      <td>42</td>\n",
       "      <td>42120</td>\n",
       "      <td>İlkay Sokak 8</td>\n",
       "      <td>professional_services</td>\n",
       "      <td>AGRO TÖKE</td>\n",
       "      <td>0.655315</td>\n",
       "      <td>{'minx': 32.522156, 'maxx': 32.522156, 'miny':...</td>\n",
       "      <td>[0, 0, 24, 0, 0, 0, 0, 0, 0, 0, 0, 0, 1, 0, 0,...</td>\n",
       "    </tr>\n",
       "    <tr>\n",
       "      <th>2</th>\n",
       "      <td>Kayseri</td>\n",
       "      <td>None</td>\n",
       "      <td>38010</td>\n",
       "      <td>Ufuk Sokak 1</td>\n",
       "      <td>local_and_state_government_offices</td>\n",
       "      <td>Sosyal Güvenlik Kurumu İl Müdürlüğü</td>\n",
       "      <td>0.606282</td>\n",
       "      <td>{'minx': 35.48468, 'maxx': 35.48468, 'miny': 3...</td>\n",
       "      <td>[0, 0, 24, 0, 0, 0, 0, 0, 0, 0, 0, 0, 1, 0, 0,...</td>\n",
       "    </tr>\n",
       "    <tr>\n",
       "      <th>3</th>\n",
       "      <td>Ankara</td>\n",
       "      <td>06</td>\n",
       "      <td>06300</td>\n",
       "      <td>492. Cadde 31/B</td>\n",
       "      <td>car_dealer</td>\n",
       "      <td>EYMEN OTO Kiralama</td>\n",
       "      <td>0.593438</td>\n",
       "      <td>{'minx': 32.8882484, 'maxx': 32.8882484, 'miny...</td>\n",
       "      <td>[0, 0, 24, 0, 0, 0, 0, 0, 0, 0, 0, 0, 1, 0, 0,...</td>\n",
       "    </tr>\n",
       "    <tr>\n",
       "      <th>4</th>\n",
       "      <td>Adana</td>\n",
       "      <td>01</td>\n",
       "      <td>01120</td>\n",
       "      <td>62017. Sokak 13</td>\n",
       "      <td>contractor</td>\n",
       "      <td>Gökpınar İnşaat</td>\n",
       "      <td>0.623355</td>\n",
       "      <td>{'minx': 35.3315582, 'maxx': 35.3315582, 'miny...</td>\n",
       "      <td>[0, 0, 24, 0, 0, 0, 0, 0, 0, 0, 0, 0, 1, 0, 0,...</td>\n",
       "    </tr>\n",
       "  </tbody>\n",
       "</table>\n",
       "</div>"
      ],
      "text/plain": [
       "  locality region postcode         freeform  \\\n",
       "0     None   None     None             None   \n",
       "1    Konya     42    42120    İlkay Sokak 8   \n",
       "2  Kayseri   None    38010     Ufuk Sokak 1   \n",
       "3   Ankara     06    06300  492. Cadde 31/B   \n",
       "4    Adana     01    01120  62017. Sokak 13   \n",
       "\n",
       "                      categories_main                                names  \\\n",
       "0                        public_plaza                  Elite Mamak Society   \n",
       "1               professional_services                            AGRO TÖKE   \n",
       "2  local_and_state_government_offices  Sosyal Güvenlik Kurumu İl Müdürlüğü   \n",
       "3                          car_dealer                   EYMEN OTO Kiralama   \n",
       "4                          contractor                      Gökpınar İnşaat   \n",
       "\n",
       "   confidence                                               bbox  \\\n",
       "0    0.630477  {'minx': 32.919501, 'maxx': 32.919501, 'miny':...   \n",
       "1    0.655315  {'minx': 32.522156, 'maxx': 32.522156, 'miny':...   \n",
       "2    0.606282  {'minx': 35.48468, 'maxx': 35.48468, 'miny': 3...   \n",
       "3    0.593438  {'minx': 32.8882484, 'maxx': 32.8882484, 'miny...   \n",
       "4    0.623355  {'minx': 35.3315582, 'maxx': 35.3315582, 'miny...   \n",
       "\n",
       "                                                geom  \n",
       "0  [0, 0, 24, 0, 0, 0, 0, 0, 0, 0, 0, 0, 1, 0, 0,...  \n",
       "1  [0, 0, 24, 0, 0, 0, 0, 0, 0, 0, 0, 0, 1, 0, 0,...  \n",
       "2  [0, 0, 24, 0, 0, 0, 0, 0, 0, 0, 0, 0, 1, 0, 0,...  \n",
       "3  [0, 0, 24, 0, 0, 0, 0, 0, 0, 0, 0, 0, 1, 0, 0,...  \n",
       "4  [0, 0, 24, 0, 0, 0, 0, 0, 0, 0, 0, 0, 1, 0, 0,...  "
      ]
     },
     "execution_count": 12,
     "metadata": {},
     "output_type": "execute_result"
    }
   ],
   "source": [
    "db.sql(\"\"\"\n",
    "select * from turkey_places limit 5\n",
    "\"\"\").df()"
   ]
  },
  {
   "cell_type": "markdown",
   "metadata": {},
   "source": [
    "As an example, I will examine the POI data in Istanbul. I created two tables to obtain the POI points located within 500 m of the designated park points."
   ]
  },
  {
   "cell_type": "code",
   "execution_count": 13,
   "metadata": {},
   "outputs": [],
   "source": [
    "db.sql(\"\"\"\n",
    "    create or replace table park_ist as (\n",
    "        select * from turkey_places where locality = 'İstanbul' and categories_main='park'   \n",
    "    );\n",
    "\n",
    "    create or replace table poi_ist as (\n",
    "        select * from turkey_places where locality = 'İstanbul' and categories_main <> 'park'\n",
    "    )\n",
    "\n",
    "\"\"\")"
   ]
  },
  {
   "cell_type": "markdown",
   "metadata": {},
   "source": [
    "Number of POIs in Istanbul:"
   ]
  },
  {
   "cell_type": "code",
   "execution_count": 14,
   "metadata": {},
   "outputs": [
    {
     "data": {
      "text/plain": [
       "'\\ncount\\n  181959\\n'"
      ]
     },
     "execution_count": 14,
     "metadata": {},
     "output_type": "execute_result"
    }
   ],
   "source": [
    "db.sql(\n",
    "    \"\"\"\n",
    "select count(*) from poi_ist\n",
    "\n",
    "\"\"\"\n",
    ")\n",
    "'''\n",
    "count\n",
    "  181959\n",
    "'''"
   ]
  },
  {
   "cell_type": "markdown",
   "metadata": {},
   "source": [
    "Number of POIs designated as Parks in Istanbul:"
   ]
  },
  {
   "cell_type": "code",
   "execution_count": 15,
   "metadata": {},
   "outputs": [
    {
     "data": {
      "text/plain": [
       "'\\ncount\\n  492\\n'"
      ]
     },
     "execution_count": 15,
     "metadata": {},
     "output_type": "execute_result"
    }
   ],
   "source": [
    "db.sql(\n",
    "    \"\"\"\n",
    "select count(*) from park_ist\n",
    "\n",
    "\"\"\")\n",
    "\n",
    "'''\n",
    "count\n",
    "  492\n",
    "'''\n"
   ]
  },
  {
   "cell_type": "markdown",
   "metadata": {},
   "source": [
    "To query the POI points within 500 m of the points included in the park category:"
   ]
  },
  {
   "cell_type": "code",
   "execution_count": 16,
   "metadata": {},
   "outputs": [
    {
     "data": {
      "application/vnd.jupyter.widget-view+json": {
       "model_id": "42ccf234d9d04bf7a519d109a7cf5a3b",
       "version_major": 2,
       "version_minor": 0
      },
      "text/plain": [
       "FloatProgress(value=0.0, layout=Layout(width='auto'), style=ProgressStyle(bar_color='black'))"
      ]
     },
     "metadata": {},
     "output_type": "display_data"
    }
   ],
   "source": [
    "df = db.sql(\"\"\"\n",
    "              select  poi_ist.region as poi_ist_region,poi_ist.freeform as poi_ist_freeform,poi_ist.categories_main as poi_ist_categori ,\n",
    "              park_ist.categories_main as park_categori , park_ist.names as park_names, park_ist.freeform as park_ist_freeform,\n",
    "\n",
    "              st_distance(poi_ist.geom,park_ist.geom) as dist,\n",
    "              ST_AsText(poi_ist.geom) as geom,\n",
    "              ST_AsText(park_ist.geom) as geom2\n",
    "\n",
    "              from poi_ist, park_ist \n",
    "\n",
    "              where ST_DWithin(poi_ist.geom, park_ist.geom,500) \n",
    "       \"\"\").to_df()\n",
    "\n",
    "gdf = gpd.GeoDataFrame(df,geometry= gpd.GeoSeries.from_wkt(df['geom']),crs=\"EPSG:3857\")\n",
    "gdf.to_file(\"poi.geojson\",driver=\"GeoJSON\")"
   ]
  },
  {
   "cell_type": "code",
   "execution_count": null,
   "metadata": {},
   "outputs": [],
   "source": []
  }
 ],
 "metadata": {
  "kernelspec": {
   "display_name": "overturemapsdownloader-W8Mf4UPw-py3.11",
   "language": "python",
   "name": "python3"
  },
  "language_info": {
   "codemirror_mode": {
    "name": "ipython",
    "version": 3
   },
   "file_extension": ".py",
   "mimetype": "text/x-python",
   "name": "python",
   "nbconvert_exporter": "python",
   "pygments_lexer": "ipython3",
   "version": "3.11.5"
  },
  "orig_nbformat": 4
 },
 "nbformat": 4,
 "nbformat_minor": 2
}
