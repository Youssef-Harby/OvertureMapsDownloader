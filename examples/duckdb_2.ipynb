{
 "cells": [
  {
   "cell_type": "code",
   "execution_count": 1,
   "id": "06b61410-b584-475d-9a28-e39644b28346",
   "metadata": {},
   "outputs": [],
   "source": [
    "import duckdb\n",
    "from typing import Any\n",
    "import json\n",
    "import geopandas as gpd\n",
    "from osgeo import ogr"
   ]
  },
  {
   "cell_type": "code",
   "execution_count": 3,
   "id": "d9ee4ae8-7f0f-420b-96e8-fa97fa09e196",
   "metadata": {},
   "outputs": [
    {
     "name": "stdout",
     "output_type": "stream",
     "text": [
      "[(42,)]\n"
     ]
    }
   ],
   "source": [
    "con = duckdb.connect()\n",
    "print(con.execute('SELECT 42').fetchall())"
   ]
  },
  {
   "cell_type": "code",
   "execution_count": 4,
   "id": "826f5979-301f-4a2b-a91a-d0fb08e0f64c",
   "metadata": {},
   "outputs": [],
   "source": [
    "# To install an extension (this is usually done only once)\n",
    "try:\n",
    "    con.install_extension('httpfs')\n",
    "    con.install_extension('spatial')\n",
    "    con.load_extension('httpfs')\n",
    "    con.load_extension('spatial')\n",
    "    con.execute(\"SET s3_region='us-west-2'\")\n",
    "except Exception as e:\n",
    "    print(f\"Failed to install extension: {e}\")"
   ]
  },
  {
   "cell_type": "code",
   "execution_count": 5,
   "id": "7cbb6dec-7d26-42fe-9867-b2fa6f38f912",
   "metadata": {},
   "outputs": [],
   "source": [
    "read_query = '''\n",
    "SELECT\n",
    "    type,\n",
    "    subType,\n",
    "    localityType,\n",
    "    adminLevel,\n",
    "    isoCountryCodeAlpha2,\n",
    "    JSON(names) AS names,\n",
    "    JSON(sources) AS sources,\n",
    "    ST_GeomFromWkb(geometry) AS geometry\n",
    "FROM read_parquet(\n",
    "    's3://overturemaps-us-west-2/release/2023-07-26-alpha.0/theme=admins/type=*/*',\n",
    "    filename=true,\n",
    "    hive_partitioning=1\n",
    ")\n",
    "WHERE adminLevel = 2\n",
    "    AND ST_GeometryType(ST_GeomFromWkb(geometry)) IN ('POLYGON','MULTIPOLYGON')\n",
    "'''"
   ]
  },
  {
   "cell_type": "code",
   "execution_count": 6,
   "id": "bdc84cab-5a8e-446c-8433-eaebd41b27ca",
   "metadata": {},
   "outputs": [],
   "source": [
    "copy_query = f'''\n",
    "COPY ({read_query}) \n",
    "TO 'countries.gpkg' \n",
    "WITH (FORMAT GDAL, DRIVER 'GPKG');\n",
    "'''"
   ]
  },
  {
   "cell_type": "code",
   "execution_count": 7,
   "id": "fb611cc4-0539-4bdb-a4a6-ed2608dcc6c1",
   "metadata": {},
   "outputs": [
    {
     "data": {
      "application/vnd.jupyter.widget-view+json": {
       "model_id": "5102b43275764a17b39722f874305be8",
       "version_major": 2,
       "version_minor": 0
      },
      "text/plain": [
       "FloatProgress(value=0.0, layout=Layout(width='auto'), style=ProgressStyle(bar_color='black'))"
      ]
     },
     "metadata": {},
     "output_type": "display_data"
    },
    {
     "data": {
      "text/plain": [
       "<duckdb.duckdb.DuckDBPyConnection at 0xffffbc0b77b0>"
      ]
     },
     "execution_count": 7,
     "metadata": {},
     "output_type": "execute_result"
    }
   ],
   "source": [
    "con.execute(copy_query)"
   ]
  },
  {
   "cell_type": "code",
   "execution_count": null,
   "id": "b3e7a34d-d315-4161-a405-b35aae49e40f",
   "metadata": {},
   "outputs": [],
   "source": []
  }
 ],
 "metadata": {
  "kernelspec": {
   "display_name": "Python 3 (ipykernel)",
   "language": "python",
   "name": "python3"
  },
  "language_info": {
   "codemirror_mode": {
    "name": "ipython",
    "version": 3
   },
   "file_extension": ".py",
   "mimetype": "text/x-python",
   "name": "python",
   "nbconvert_exporter": "python",
   "pygments_lexer": "ipython3",
   "version": "3.10.12"
  }
 },
 "nbformat": 4,
 "nbformat_minor": 5
}
