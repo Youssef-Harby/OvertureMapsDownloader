{
 "cells": [
  {
   "cell_type": "code",
   "execution_count": 3,
   "id": "5bdfdf6f-8ae8-494d-8868-664e10db4acb",
   "metadata": {},
   "outputs": [],
   "source": [
    "from overturemapsdownloader.utils import write_geospatial_data"
   ]
  },
  {
   "cell_type": "code",
   "execution_count": 4,
   "id": "0de6867b-5ccd-49a8-abd1-4085e6986f39",
   "metadata": {},
   "outputs": [],
   "source": [
    "import duckdb\n",
    "from typing import Any\n",
    "import json\n",
    "import geopandas as gpd\n",
    "from osgeo import ogr"
   ]
  },
  {
   "cell_type": "code",
   "execution_count": 5,
   "id": "0f70088e-5f19-45c7-b30f-966b13e73148",
   "metadata": {},
   "outputs": [
    {
     "name": "stdout",
     "output_type": "stream",
     "text": [
      "[(42,)]\n"
     ]
    }
   ],
   "source": [
    "con = duckdb.connect()\n",
    "print(con.execute('SELECT 42').fetchall())"
   ]
  },
  {
   "cell_type": "code",
   "execution_count": 6,
   "id": "39cb0a3c-ca61-4718-a7c8-1fbb28db71bb",
   "metadata": {},
   "outputs": [],
   "source": [
    "# To install an extension (this is usually done only once)\n",
    "try:\n",
    "    con.install_extension('httpfs')\n",
    "    con.install_extension('spatial')\n",
    "    con.load_extension('httpfs')\n",
    "    con.load_extension('spatial')\n",
    "    con.execute(\"SET s3_region='us-west-2'\")\n",
    "except Exception as e:\n",
    "    print(f\"Failed to install extension: {e}\")"
   ]
  },
  {
   "cell_type": "code",
   "execution_count": null,
   "id": "74b007e2-e2e4-4d52-8956-11fb2cea386c",
   "metadata": {},
   "outputs": [],
   "source": [
    "# Define the query to read from S3 and filter the data\n",
    "query = '''\n",
    "SELECT\n",
    "    type,\n",
    "    subType,\n",
    "    localityType,\n",
    "    adminLevel,\n",
    "    isoCountryCodeAlpha2,\n",
    "    JSON(names) AS names,\n",
    "    JSON(sources) AS sources,\n",
    "    ST_GeomFromWkb(geometry) AS geometry\n",
    "FROM read_parquet(\n",
    "    's3://overturemaps-us-west-2/release/2023-07-26-alpha.0/theme=admins/type=*/*',\n",
    "    filename=true,\n",
    "    hive_partitioning=1\n",
    ")\n",
    "WHERE adminLevel = 2\n",
    "    AND ST_GeometryType(ST_GeomFromWkb(geometry)) IN ('POLYGON','MULTIPOLYGON')\n",
    "LIMIT 5\n",
    "'''"
   ]
  },
  {
   "cell_type": "code",
   "execution_count": null,
   "id": "3934259d-f93f-4120-a391-88a76508cd2d",
   "metadata": {},
   "outputs": [],
   "source": [
    "# Execute the query and store the result\n",
    "df = con.execute(query).fetchdf()\n",
    "result = con.execute(query).fetchall()"
   ]
  },
  {
   "cell_type": "code",
   "execution_count": null,
   "id": "30f814da-cc08-43d6-a310-ad251155c423",
   "metadata": {},
   "outputs": [],
   "source": [
    "print(df['geometry'].head())"
   ]
  },
  {
   "cell_type": "code",
   "execution_count": null,
   "id": "2ace84f4-bb4f-408b-9dfc-03656e779135",
   "metadata": {},
   "outputs": [],
   "source": [
    "columns = ['type', 'subType', 'localityType', 'adminLevel', 'isoCountryCodeAlpha2', 'names', 'sources', 'geometry']\n",
    "gdf = gpd.GeoDataFrame(result, columns=columns)"
   ]
  },
  {
   "cell_type": "code",
   "execution_count": null,
   "id": "7e41cec4-7846-445a-8390-35e6e7466ebc",
   "metadata": {},
   "outputs": [],
   "source": [
    "gdf.head()"
   ]
  },
  {
   "cell_type": "code",
   "execution_count": null,
   "id": "1b024b71-7646-4636-bb73-8b023557357b",
   "metadata": {},
   "outputs": [],
   "source": [
    "first_geometry = gdf['geometry'].iloc[0]"
   ]
  },
  {
   "cell_type": "code",
   "execution_count": null,
   "id": "6afc13bd-11a9-44dd-bc44-d6403d63a11a",
   "metadata": {},
   "outputs": [],
   "source": [
    "# Try to convert it to a Shapely geometry object\n",
    "def try_wkb_loads(data):\n",
    "    try:\n",
    "        return wkb.loads(data)\n",
    "    except Exception as e:\n",
    "        print(f\"Failed to convert geometry: {e}\")\n",
    "        return None"
   ]
  },
  {
   "cell_type": "code",
   "execution_count": null,
   "id": "9ce0dfd9-1884-49af-acd3-8223bc664776",
   "metadata": {},
   "outputs": [],
   "source": [
    "gdf['geometry'] = gdf['geometry'].apply(try_wkb_loads)"
   ]
  },
  {
   "cell_type": "code",
   "execution_count": null,
   "id": "8e2af657-28af-4189-bc88-4dd9ad7ec141",
   "metadata": {},
   "outputs": [],
   "source": [
    "print(gdf['geometry'].iloc[0][:10])"
   ]
  },
  {
   "cell_type": "code",
   "execution_count": null,
   "id": "d64a9162-789f-4ca2-8ac0-6cfe25ad4820",
   "metadata": {},
   "outputs": [],
   "source": [
    "# Convert the WKB geometry to Shapely geometry objects\n",
    "gdf['geometry'] = gdf['geometry'].apply(lambda x: wkb.loads(ogr.CreateGeometryFromWkb(x)))"
   ]
  },
  {
   "cell_type": "code",
   "execution_count": null,
   "id": "67a26b65-a475-4f5e-9554-f5dba6c5fad2",
   "metadata": {},
   "outputs": [],
   "source": [
    "gdf.head()"
   ]
  },
  {
   "cell_type": "code",
   "execution_count": null,
   "id": "2faf02f2-7880-4ec2-9360-7ec99518fefa",
   "metadata": {},
   "outputs": [],
   "source": [
    "# Create a GeoDataFrame\n",
    "gdf = gpd.GeoDataFrame(df, geometry='geometry')"
   ]
  },
  {
   "cell_type": "code",
   "execution_count": null,
   "id": "b6b98b70-13c2-4b2d-af26-32a9b11d8241",
   "metadata": {},
   "outputs": [],
   "source": [
    "gdf.head()"
   ]
  },
  {
   "cell_type": "code",
   "execution_count": null,
   "id": "263b4686-38d7-4dda-a3c1-808ae2f1986f",
   "metadata": {},
   "outputs": [],
   "source": [
    "# Convert GeoDataFrame to GeoJSON\n",
    "geojson_data = json.loads(gdf.to_json())\n",
    "\n",
    "# Write the GeoJSON data to a file\n",
    "with open('countries.geojson', 'w') as f:\n",
    "    json.dump(geojson_data, f)"
   ]
  },
  {
   "cell_type": "code",
   "execution_count": null,
   "id": "f21228c5-ad5a-43d7-b8d6-cf8d883dc5ed",
   "metadata": {},
   "outputs": [],
   "source": [
    "write_geospatial_data(gdf,'countries.gpkg',layer='countries')"
   ]
  },
  {
   "cell_type": "code",
   "execution_count": null,
   "id": "62085b8d-76ac-4d8b-964c-723047681ed6",
   "metadata": {},
   "outputs": [],
   "source": [
    "# Close the DuckDB connection\n",
    "con.close()"
   ]
  },
  {
   "cell_type": "code",
   "execution_count": null,
   "id": "569d4ba5-dceb-4267-868b-40f18ac901aa",
   "metadata": {},
   "outputs": [],
   "source": []
  }
 ],
 "metadata": {
  "kernelspec": {
   "display_name": "Python 3 (ipykernel)",
   "language": "python",
   "name": "python3"
  },
  "language_info": {
   "codemirror_mode": {
    "name": "ipython",
    "version": 3
   },
   "file_extension": ".py",
   "mimetype": "text/x-python",
   "name": "python",
   "nbconvert_exporter": "python",
   "pygments_lexer": "ipython3",
   "version": "3.10.12"
  }
 },
 "nbformat": 4,
 "nbformat_minor": 5
}
