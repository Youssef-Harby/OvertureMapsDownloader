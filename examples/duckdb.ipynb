{
 "cells": [
  {
   "cell_type": "code",
   "execution_count": 1,
   "id": "0de6867b-5ccd-49a8-abd1-4085e6986f39",
   "metadata": {},
   "outputs": [],
   "source": [
    "import duckdb\n",
    "from typing import Any\n",
    "import json\n",
    "import geopandas as gpd\n",
    "from osgeo import ogr"
   ]
  },
  {
   "cell_type": "code",
   "execution_count": 2,
   "id": "0f70088e-5f19-45c7-b30f-966b13e73148",
   "metadata": {},
   "outputs": [
    {
     "name": "stdout",
     "output_type": "stream",
     "text": [
      "[(42,)]\n"
     ]
    }
   ],
   "source": [
    "con = duckdb.connect()\n",
    "print(con.execute('SELECT 42').fetchall())"
   ]
  },
  {
   "cell_type": "code",
   "execution_count": 13,
   "id": "39cb0a3c-ca61-4718-a7c8-1fbb28db71bb",
   "metadata": {},
   "outputs": [],
   "source": [
    "# To install an extension (this is usually done only once)\n",
    "try:\n",
    "    con.install_extension('httpfs')\n",
    "    con.install_extension('spatial')\n",
    "    con.load_extension('httpfs')\n",
    "    con.load_extension('spatial')\n",
    "    con.execute(\"SET s3_region='us-west-2'\")\n",
    "except Exception as e:\n",
    "    print(f\"Failed to install extension: {e}\")"
   ]
  },
  {
   "cell_type": "code",
   "execution_count": 15,
   "id": "74b007e2-e2e4-4d52-8956-11fb2cea386c",
   "metadata": {},
   "outputs": [
    {
     "ename": "NameError",
     "evalue": "name 'wkb' is not defined",
     "output_type": "error",
     "traceback": [
      "\u001b[0;31m---------------------------------------------------------------------------\u001b[0m",
      "\u001b[0;31mNameError\u001b[0m                                 Traceback (most recent call last)",
      "Cell \u001b[0;32mIn[15], line 28\u001b[0m\n\u001b[1;32m     25\u001b[0m df \u001b[38;5;241m=\u001b[39m con\u001b[38;5;241m.\u001b[39mexecute(query)\u001b[38;5;241m.\u001b[39mfetchdf()\n\u001b[1;32m     27\u001b[0m \u001b[38;5;66;03m# Convert the WKB geometry to Shapely geometry objects\u001b[39;00m\n\u001b[0;32m---> 28\u001b[0m df[\u001b[38;5;124m'\u001b[39m\u001b[38;5;124mgeometry\u001b[39m\u001b[38;5;124m'\u001b[39m] \u001b[38;5;241m=\u001b[39m df[\u001b[38;5;124m'\u001b[39m\u001b[38;5;124mgeometry\u001b[39m\u001b[38;5;124m'\u001b[39m]\u001b[38;5;241m.\u001b[39mapply(\u001b[43mwkb\u001b[49m\u001b[38;5;241m.\u001b[39mloads)\n\u001b[1;32m     30\u001b[0m \u001b[38;5;66;03m# Create a GeoDataFrame\u001b[39;00m\n\u001b[1;32m     31\u001b[0m gdf \u001b[38;5;241m=\u001b[39m gpd\u001b[38;5;241m.\u001b[39mGeoDataFrame(df, geometry\u001b[38;5;241m=\u001b[39m\u001b[38;5;124m'\u001b[39m\u001b[38;5;124mgeometry\u001b[39m\u001b[38;5;124m'\u001b[39m)\n",
      "\u001b[0;31mNameError\u001b[0m: name 'wkb' is not defined"
     ]
    }
   ],
   "source": [
    "\n",
    "\n",
    "# Set S3 region\n",
    "con.execute(\"SET s3_region='us-west-2'\")\n",
    "\n",
    "# Define the query to read from S3 and filter the data\n",
    "query = '''\n",
    "SELECT\n",
    "    type,\n",
    "    subType,\n",
    "    localityType,\n",
    "    adminLevel,\n",
    "    isoCountryCodeAlpha2,\n",
    "    JSON(names) AS names,\n",
    "    JSON(sources) AS sources,\n",
    "    ST_GeomFromWkb(geometry) AS geometry\n",
    "FROM read_parquet(\n",
    "    's3://overturemaps-us-west-2/release/2023-07-26-alpha.0/theme=admins/type=*/*',\n",
    "    filename=true,\n",
    "    hive_partitioning=1\n",
    ")\n",
    "WHERE adminLevel = 2\n",
    "    AND ST_GeometryType(ST_GeomFromWkb(geometry)) IN ('POLYGON','MULTIPOLYGON')\n",
    "'''\n",
    "\n",
    "# Execute the query and store the result\n",
    "df = con.execute(query).fetchdf()\n",
    "\n",
    "# Convert the WKB geometry to Shapely geometry objects\n",
    "df['geometry'] = df['geometry'].apply(wkb.loads)\n",
    "\n",
    "# Create a GeoDataFrame\n",
    "gdf = gpd.GeoDataFrame(df, geometry='geometry')\n",
    "\n",
    "# Convert GeoDataFrame to GeoJSON\n",
    "geojson_data = json.loads(gdf.to_json())\n",
    "\n",
    "# Write the GeoJSON data to a file\n",
    "with open('countries.geojson', 'w') as f:\n",
    "    json.dump(geojson_data, f)\n",
    "\n",
    "# Close the DuckDB connection\n",
    "con.close()\n"
   ]
  },
  {
   "cell_type": "code",
   "execution_count": null,
   "id": "263b4686-38d7-4dda-a3c1-808ae2f1986f",
   "metadata": {},
   "outputs": [],
   "source": []
  }
 ],
 "metadata": {
  "kernelspec": {
   "display_name": "Python 3 (ipykernel)",
   "language": "python",
   "name": "python3"
  },
  "language_info": {
   "codemirror_mode": {
    "name": "ipython",
    "version": 3
   },
   "file_extension": ".py",
   "mimetype": "text/x-python",
   "name": "python",
   "nbconvert_exporter": "python",
   "pygments_lexer": "ipython3",
   "version": "3.10.12"
  }
 },
 "nbformat": 4,
 "nbformat_minor": 5
}
