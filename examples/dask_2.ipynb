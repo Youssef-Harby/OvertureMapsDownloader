{
 "cells": [
  {
   "cell_type": "code",
   "execution_count": 8,
   "id": "9f817325",
   "metadata": {},
   "outputs": [],
   "source": [
    "import dask.dataframe as dd\n",
    "import geopandas as gpd\n",
    "import dask_geopandas as dgpd"
   ]
  },
  {
   "cell_type": "code",
   "execution_count": 15,
   "id": "a86e4374",
   "metadata": {},
   "outputs": [],
   "source": [
    "df = dd.read_parquet(\n",
    "    's3://overturemaps-us-west-2/release/2023-07-26-alpha.0/theme=places/type=place/*',\n",
    "    # columns=['bbox', 'geometry'],\n",
    "    engine='pyarrow',\n",
    "    index='id',\n",
    "    dtype_backend='pyarrow',\n",
    "    storage_options={\"anon\": True},\n",
    "    parquet_file_extensions=False,\n",
    ")"
   ]
  },
  {
   "cell_type": "code",
   "execution_count": 19,
   "id": "70c40e98",
   "metadata": {},
   "outputs": [
    {
     "name": "stdout",
     "output_type": "stream",
     "text": [
      "POLYGON ((31.53149079200861 30.101963360401314, 31.428791618303393 30.101963360401314, 31.428791618303393 29.997741213406755, 31.53149079200861 29.997741213406755, 31.53149079200861 30.101963360401314))\n"
     ]
    },
    {
     "name": "stderr",
     "output_type": "stream",
     "text": [
      "/Users/yharby/Library/Caches/pypoetry/virtualenvs/overturemapsdownloader-W8Mf4UPw-py3.11/lib/python3.11/site-packages/geopandas/geoseries.py:645: FutureWarning: the convert_dtype parameter is deprecated and will be removed in a future version.  Do ``ser.astype(object).apply()`` instead if you want ``convert_dtype=False``.\n",
      "  result = super().apply(func, convert_dtype=convert_dtype, args=args, **kwargs)\n"
     ]
    }
   ],
   "source": [
    "from overturemapsdownloader.utils import read_geospatial_data\n",
    "bbox_filter = read_geospatial_data('bbox.geojson', as_shapely_str=True, output_format='Custom')\n",
    "print(bbox_filter)"
   ]
  },
  {
   "cell_type": "code",
   "execution_count": 20,
   "id": "552284b7",
   "metadata": {},
   "outputs": [
    {
     "name": "stdout",
     "output_type": "stream",
     "text": [
      "                                                   updatetime  version  \\\n",
      "id                                                                       \n",
      "tmp_923D8A13EE34D545D4C50D605CBD720D  2023-07-24T00:00:00.000        0   \n",
      "tmp_349425DB28AC143C183EAD86B2A5C170  2023-07-24T00:00:00.000        0   \n",
      "tmp_42028412FDC41BC2067899F403FF20BF  2023-07-24T00:00:00.000        0   \n",
      "tmp_BFCBD5CAB864C656A010B86B7334257C  2023-07-24T00:00:00.000        0   \n",
      "tmp_052B14C9CA6F13AE00870F7C3FC4735A  2023-07-24T00:00:00.000        0   \n",
      "\n",
      "                                                                                  names  \\\n",
      "id                                                                                        \n",
      "tmp_923D8A13EE34D545D4C50D605CBD720D  [('common', array([list([('value', 'Real Estat...   \n",
      "tmp_349425DB28AC143C183EAD86B2A5C170  [('common', array([list([('value', 'عيادات اد....   \n",
      "tmp_42028412FDC41BC2067899F403FF20BF  [('common', array([list([('value', 'الصفحة الر...   \n",
      "tmp_BFCBD5CAB864C656A010B86B7334257C  [('common', array([list([('value', 'The Addres...   \n",
      "tmp_052B14C9CA6F13AE00870F7C3FC4735A  [('common', array([list([('value', 'WAW BOOK')...   \n",
      "\n",
      "                                                                             categories  \\\n",
      "id                                                                                        \n",
      "tmp_923D8A13EE34D545D4C50D605CBD720D         {'main': 'real_estate', 'alternate': None}   \n",
      "tmp_349425DB28AC143C183EAD86B2A5C170  {'main': 'obstetrician_and_gynecologist', 'alt...   \n",
      "tmp_42028412FDC41BC2067899F403FF20BF  {'main': 'political_organization', 'alternate'...   \n",
      "tmp_BFCBD5CAB864C656A010B86B7334257C  {'main': 'real_estate', 'alternate': array(['r...   \n",
      "tmp_052B14C9CA6F13AE00870F7C3FC4735A  {'main': 'marketing_agency', 'alternate': arra...   \n",
      "\n",
      "                                      confidence  \\\n",
      "id                                                 \n",
      "tmp_923D8A13EE34D545D4C50D605CBD720D    0.637780   \n",
      "tmp_349425DB28AC143C183EAD86B2A5C170    0.645933   \n",
      "tmp_42028412FDC41BC2067899F403FF20BF    0.421330   \n",
      "tmp_BFCBD5CAB864C656A010B86B7334257C    0.920338   \n",
      "tmp_052B14C9CA6F13AE00870F7C3FC4735A    0.487720   \n",
      "\n",
      "                                                                      websites  \\\n",
      "id                                                                               \n",
      "tmp_923D8A13EE34D545D4C50D605CBD720D                                      <NA>   \n",
      "tmp_349425DB28AC143C183EAD86B2A5C170         ['https://www.dr-ihabserag.com/']   \n",
      "tmp_42028412FDC41BC2067899F403FF20BF                                      <NA>   \n",
      "tmp_BFCBD5CAB864C656A010B86B7334257C  ['http://www.theaddressinvestments.com']   \n",
      "tmp_052B14C9CA6F13AE00870F7C3FC4735A                ['http://www.wawbook.com']   \n",
      "\n",
      "                                                                            socials  \\\n",
      "id                                                                                    \n",
      "tmp_923D8A13EE34D545D4C50D605CBD720D   ['https://www.facebook.com/100166266132704']   \n",
      "tmp_349425DB28AC143C183EAD86B2A5C170   ['https://www.facebook.com/106787160930794']   \n",
      "tmp_42028412FDC41BC2067899F403FF20BF  ['https://www.facebook.com/1424991417746657']   \n",
      "tmp_BFCBD5CAB864C656A010B86B7334257C   ['https://www.facebook.com/167409210841481']   \n",
      "tmp_052B14C9CA6F13AE00870F7C3FC4735A   ['https://www.facebook.com/452146911533389']   \n",
      "\n",
      "                                     emails             phones  \\\n",
      "id                                                               \n",
      "tmp_923D8A13EE34D545D4C50D605CBD720D   <NA>  ['+201280755053']   \n",
      "tmp_349425DB28AC143C183EAD86B2A5C170   <NA>  ['+201091599913']   \n",
      "tmp_42028412FDC41BC2067899F403FF20BF   <NA>   ['+20224155500']   \n",
      "tmp_BFCBD5CAB864C656A010B86B7334257C   <NA>  ['+201203666648']   \n",
      "tmp_052B14C9CA6F13AE00870F7C3FC4735A   <NA>   ['+20225632583']   \n",
      "\n",
      "                                                                  brand  \\\n",
      "id                                                                        \n",
      "tmp_923D8A13EE34D545D4C50D605CBD720D  {'names': None, 'wikidata': None}   \n",
      "tmp_349425DB28AC143C183EAD86B2A5C170  {'names': None, 'wikidata': None}   \n",
      "tmp_42028412FDC41BC2067899F403FF20BF  {'names': None, 'wikidata': None}   \n",
      "tmp_BFCBD5CAB864C656A010B86B7334257C  {'names': None, 'wikidata': None}   \n",
      "tmp_052B14C9CA6F13AE00870F7C3FC4735A  {'names': None, 'wikidata': None}   \n",
      "\n",
      "                                                                              addresses  \\\n",
      "id                                                                                        \n",
      "tmp_923D8A13EE34D545D4C50D605CBD720D  [list([('locality', 'Cairo'), ('postcode', '00...   \n",
      "tmp_349425DB28AC143C183EAD86B2A5C170  [list([('locality', 'Cairo'), ('postcode', '11...   \n",
      "tmp_42028412FDC41BC2067899F403FF20BF  [list([('locality', 'القاهرة'), ('freeform', '...   \n",
      "tmp_BFCBD5CAB864C656A010B86B7334257C  [list([('locality', 'Cairo'), ('postcode', '11...   \n",
      "tmp_052B14C9CA6F13AE00870F7C3FC4735A  [list([('locality', 'القاهرة الجديدة'), ('free...   \n",
      "\n",
      "                                                                                sources  \\\n",
      "id                                                                                        \n",
      "tmp_923D8A13EE34D545D4C50D605CBD720D  [list([('dataset', 'meta'), ('property', ''), ...   \n",
      "tmp_349425DB28AC143C183EAD86B2A5C170  [list([('dataset', 'meta'), ('property', ''), ...   \n",
      "tmp_42028412FDC41BC2067899F403FF20BF  [list([('dataset', 'meta'), ('property', ''), ...   \n",
      "tmp_BFCBD5CAB864C656A010B86B7334257C  [list([('dataset', 'meta'), ('property', ''), ...   \n",
      "tmp_052B14C9CA6F13AE00870F7C3FC4735A  [list([('dataset', 'meta'), ('property', ''), ...   \n",
      "\n",
      "                                                                                   bbox  \\\n",
      "id                                                                                        \n",
      "tmp_923D8A13EE34D545D4C50D605CBD720D  {'minx': 31.4784254, 'maxx': 31.4784254, 'miny...   \n",
      "tmp_349425DB28AC143C183EAD86B2A5C170  {'minx': 31.4364353, 'maxx': 31.4364353, 'miny...   \n",
      "tmp_42028412FDC41BC2067899F403FF20BF  {'minx': 31.495635, 'maxx': 31.495635, 'miny':...   \n",
      "tmp_BFCBD5CAB864C656A010B86B7334257C  {'minx': 31.4938519, 'maxx': 31.4938519, 'miny...   \n",
      "tmp_052B14C9CA6F13AE00870F7C3FC4735A  {'minx': 31.4494434, 'maxx': 31.4494434, 'miny...   \n",
      "\n",
      "                                                       geometry   theme   type  \n",
      "id                                                                              \n",
      "tmp_923D8A13EE34D545D4C50D605CBD720D  POINT (31.47843 30.00341)  places  place  \n",
      "tmp_349425DB28AC143C183EAD86B2A5C170  POINT (31.43644 30.01957)  places  place  \n",
      "tmp_42028412FDC41BC2067899F403FF20BF  POINT (31.49564 30.04946)  places  place  \n",
      "tmp_BFCBD5CAB864C656A010B86B7334257C  POINT (31.49385 30.02631)  places  place  \n",
      "tmp_052B14C9CA6F13AE00870F7C3FC4735A  POINT (31.44944 30.00238)  places  place  \n"
     ]
    }
   ],
   "source": [
    "geometry = df[\"geometry\"].map_partitions(gpd.GeoSeries.from_wkb, meta=gpd.GeoSeries(name=\"geometry\")).set_crs(4326)\n",
    "gdf = dgpd.from_dask_dataframe(df, geometry=geometry)\n",
    "\n",
    "clipped_gdf = gdf[gdf.geometry.within(bbox_filter)]\n",
    "print(clipped_gdf.head())"
   ]
  },
  {
   "cell_type": "code",
   "execution_count": 21,
   "id": "f079c84f",
   "metadata": {},
   "outputs": [],
   "source": [
    "clipped_gdf.to_parquet('output.parquet')"
   ]
  },
  {
   "cell_type": "code",
   "execution_count": null,
   "id": "e5568f9b",
   "metadata": {},
   "outputs": [],
   "source": []
  }
 ],
 "metadata": {
  "kernelspec": {
   "display_name": "Python 3 (ipykernel)",
   "language": "python",
   "name": "python3"
  },
  "language_info": {
   "codemirror_mode": {
    "name": "ipython",
    "version": 3
   },
   "file_extension": ".py",
   "mimetype": "text/x-python",
   "name": "python",
   "nbconvert_exporter": "python",
   "pygments_lexer": "ipython3",
   "version": "3.11.5"
  }
 },
 "nbformat": 4,
 "nbformat_minor": 5
}
