{
 "cells": [
  {
   "cell_type": "code",
   "execution_count": 1,
   "id": "2be390b0-36b4-4f55-a9f9-3d1d4d404c9e",
   "metadata": {},
   "outputs": [
    {
     "data": {
      "text/html": [
       "<div>\n",
       "<style scoped>\n",
       "    .dataframe tbody tr th:only-of-type {\n",
       "        vertical-align: middle;\n",
       "    }\n",
       "\n",
       "    .dataframe tbody tr th {\n",
       "        vertical-align: top;\n",
       "    }\n",
       "\n",
       "    .dataframe thead th {\n",
       "        text-align: right;\n",
       "    }\n",
       "</style>\n",
       "<table border=\"1\" class=\"dataframe\">\n",
       "  <thead>\n",
       "    <tr style=\"text-align: right;\">\n",
       "      <th></th>\n",
       "      <th>bbox</th>\n",
       "      <th>geometry</th>\n",
       "    </tr>\n",
       "  </thead>\n",
       "  <tbody>\n",
       "    <tr>\n",
       "      <th>0</th>\n",
       "      <td>{'minx': -4.175979, 'maxx': -4.175979, 'miny':...</td>\n",
       "      <td>POINT (-4.17598 53.21174)</td>\n",
       "    </tr>\n",
       "    <tr>\n",
       "      <th>1</th>\n",
       "      <td>{'minx': -58.53305, 'maxx': -58.53305, 'miny':...</td>\n",
       "      <td>POINT (-58.53305 -34.58090)</td>\n",
       "    </tr>\n",
       "    <tr>\n",
       "      <th>2</th>\n",
       "      <td>{'minx': -46.5936956, 'maxx': -46.5936956, 'mi...</td>\n",
       "      <td>POINT (-46.59370 -23.51118)</td>\n",
       "    </tr>\n",
       "    <tr>\n",
       "      <th>3</th>\n",
       "      <td>{'minx': 99.555783, 'maxx': 99.555783, 'miny':...</td>\n",
       "      <td>POINT (99.55578 11.55832)</td>\n",
       "    </tr>\n",
       "    <tr>\n",
       "      <th>4</th>\n",
       "      <td>{'minx': 98.7590515, 'maxx': 98.7590515, 'miny...</td>\n",
       "      <td>POINT (98.75905 8.41062)</td>\n",
       "    </tr>\n",
       "  </tbody>\n",
       "</table>\n",
       "</div>"
      ],
      "text/plain": [
       "                                                bbox  \\\n",
       "0  {'minx': -4.175979, 'maxx': -4.175979, 'miny':...   \n",
       "1  {'minx': -58.53305, 'maxx': -58.53305, 'miny':...   \n",
       "2  {'minx': -46.5936956, 'maxx': -46.5936956, 'mi...   \n",
       "3  {'minx': 99.555783, 'maxx': 99.555783, 'miny':...   \n",
       "4  {'minx': 98.7590515, 'maxx': 98.7590515, 'miny...   \n",
       "\n",
       "                      geometry  \n",
       "0    POINT (-4.17598 53.21174)  \n",
       "1  POINT (-58.53305 -34.58090)  \n",
       "2  POINT (-46.59370 -23.51118)  \n",
       "3    POINT (99.55578 11.55832)  \n",
       "4     POINT (98.75905 8.41062)  "
      ]
     },
     "execution_count": 1,
     "metadata": {},
     "output_type": "execute_result"
    }
   ],
   "source": [
    "import dask.dataframe as dd\n",
    "import geopandas\n",
    "import dask_geopandas\n",
    "\n",
    "df = dd.read_parquet(\n",
    "    'az://release/2023-07-26-alpha.0/theme=places/type=place/*',\n",
    "    columns=['bbox', 'geometry'],\n",
    "    engine='pyarrow',\n",
    "    dtype_backend=\"pyarrow\",\n",
    "    storage_options={\"anon\": True, \"account_name\": \"overturemapswestus2\"},\n",
    "    parquet_file_extensions=False,\n",
    ")\n",
    "\n",
    "geometry = df[\"geometry\"].map_partitions(geopandas.GeoSeries.from_wkb, meta=geopandas.GeoSeries(name=\"geometry\"))\n",
    "gdf = dask_geopandas.from_dask_dataframe(df, geometry=geometry)\n",
    "gdf.head()"
   ]
  }
 ],
 "metadata": {
  "kernelspec": {
   "display_name": "Python 3 (ipykernel)",
   "language": "python",
   "name": "python3"
  },
  "language_info": {
   "codemirror_mode": {
    "name": "ipython",
    "version": 3
   },
   "file_extension": ".py",
   "mimetype": "text/x-python",
   "name": "python",
   "nbconvert_exporter": "python",
   "pygments_lexer": "ipython3",
   "version": "3.10.12"
  }
 },
 "nbformat": 4,
 "nbformat_minor": 5
}
